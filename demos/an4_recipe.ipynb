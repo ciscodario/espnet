{
 "cells": [
  {
   "cell_type": "markdown",
   "metadata": {},
   "source": [
    "# <font color='blue'>SETUP</font>\n",
    "Move to recipe path"
   ]
  },
  {
   "cell_type": "code",
   "execution_count": 1,
   "metadata": {
    "collapsed": false
   },
   "outputs": [],
   "source": [
    "import os\n",
    "os.chdir(\"/home/dariocazzani/espnet/egs/an4/tts1\")"
   ]
  },
  {
   "cell_type": "code",
   "execution_count": 2,
   "metadata": {
    "collapsed": false
   },
   "outputs": [
    {
     "name": "stdout",
     "output_type": "stream",
     "text": [
      "\u001b[01;34m.\u001b[00m\r\n",
      "├── cmd.sh\r\n",
      "├── \u001b[01;34mconf\u001b[00m\r\n",
      "├── \u001b[01;34mdata\u001b[00m\r\n",
      "├── \u001b[01;34mdownloads\u001b[00m\r\n",
      "├── \u001b[01;34mdump\u001b[00m\r\n",
      "├── \u001b[01;34mexp\u001b[00m\r\n",
      "├── \u001b[01;34mfbank\u001b[00m\r\n",
      "├── \u001b[01;36mlocal\u001b[00m -> \u001b[01;34m../asr1/local\u001b[00m\r\n",
      "├── path.sh\r\n",
      "├── \u001b[01;32mrun.sh\u001b[00m\r\n",
      "├── \u001b[01;36msteps\u001b[00m -> \u001b[01;34m../../../tools/kaldi/egs/wsj/s5/steps\u001b[00m\r\n",
      "├── \u001b[01;34mtensorboard\u001b[00m\r\n",
      "└── \u001b[01;36mutils\u001b[00m -> \u001b[01;34m../../../tools/kaldi/egs/wsj/s5/utils\u001b[00m\r\n",
      "\r\n",
      "10 directories, 3 files\r\n"
     ]
    }
   ],
   "source": [
    "!tree -L 1"
   ]
  },
  {
   "cell_type": "markdown",
   "metadata": {},
   "source": [
    "# <font color='blue'>Stage -1: Data download</font>"
   ]
  },
  {
   "cell_type": "code",
   "execution_count": 3,
   "metadata": {
    "collapsed": false
   },
   "outputs": [
    {
     "name": "stdout",
     "output_type": "stream",
     "text": [
      "stage -1: Data Download\n",
      "local/download_and_untar.sh: an4 directory already exists in ./downloads\n",
      "dictionary: data/lang_1char/train_nodev_units.txt\n",
      "\u001b[01;34m.\u001b[00m\n",
      "├── cmd.sh\n",
      "├── \u001b[01;34mconf\u001b[00m\n",
      "├── \u001b[01;34mdata\u001b[00m\n",
      "├── \u001b[01;34mdownloads\u001b[00m\n",
      "├── \u001b[01;34mdump\u001b[00m\n",
      "├── \u001b[01;34mexp\u001b[00m\n",
      "├── \u001b[01;34mfbank\u001b[00m\n",
      "├── \u001b[01;36mlocal\u001b[00m -> \u001b[01;34m../asr1/local\u001b[00m\n",
      "├── path.sh\n",
      "├── \u001b[01;32mrun.sh\u001b[00m\n",
      "├── \u001b[01;36msteps\u001b[00m -> \u001b[01;34m../../../tools/kaldi/egs/wsj/s5/steps\u001b[00m\n",
      "├── \u001b[01;34mtensorboard\u001b[00m\n",
      "└── \u001b[01;36mutils\u001b[00m -> \u001b[01;34m../../../tools/kaldi/egs/wsj/s5/utils\u001b[00m\n",
      "\n",
      "10 directories, 3 files\n",
      "an4  an4_sphere.tar.gz\n"
     ]
    }
   ],
   "source": [
    "!./run.sh --stage -1 --stop_stage -1\n",
    "!tree -L 1\n",
    "!ls downloads/"
   ]
  },
  {
   "cell_type": "markdown",
   "metadata": {},
   "source": [
    "The **downloads** folder contains the **an4 dataset**"
   ]
  },
  {
   "cell_type": "markdown",
   "metadata": {},
   "source": [
    "# <font color='blue'>Stage 0: Data preparation</font>"
   ]
  },
  {
   "cell_type": "code",
   "execution_count": 4,
   "metadata": {
    "collapsed": false
   },
   "outputs": [
    {
     "name": "stdout",
     "output_type": "stream",
     "text": [
      "stage 0: Data preparation\n",
      "dictionary: data/lang_1char/train_nodev_units.txt\n"
     ]
    }
   ],
   "source": [
    "!./run.sh --stage 0 --stop_stage 0"
   ]
  },
  {
   "cell_type": "markdown",
   "metadata": {},
   "source": [
    "Through the data preparation stage, kaldi-style data directories will be created.<br>\n",
    "Here, **data/train/** is corresponding to training set, and **data/test** is corresponding to evaluation set.\n",
    "Each directory has the same following files:"
   ]
  },
  {
   "cell_type": "code",
   "execution_count": 5,
   "metadata": {
    "collapsed": false
   },
   "outputs": [
    {
     "name": "stdout",
     "output_type": "stream",
     "text": [
      "data/lang_1char:\r\n",
      "train_nodev_units.txt\r\n",
      "\r\n",
      "data/test:\r\n",
      "feats.scp  filetype  spk2utt  text  utt2num_frames  utt2spk  wav.scp\r\n",
      "\r\n",
      "data/train:\r\n",
      "feats.scp  filetype  spk2utt  text  utt2num_frames  utt2spk  wav.scp\r\n",
      "\r\n",
      "data/train_dev:\r\n",
      "feats.scp  spk2utt  text  utt2num_frames  utt2spk  wav.scp\r\n",
      "\r\n",
      "data/train_nodev:\r\n",
      "cmvn.ark  feats.scp  spk2utt  text  utt2num_frames  utt2spk  wav.scp\r\n"
     ]
    }
   ],
   "source": [
    "!ls data/*"
   ]
  },
  {
   "cell_type": "markdown",
   "metadata": {},
   "source": [
    "### wav.scp content\n",
    "List of audio path. <br>Each line has `<utt_id>` `<wavfile_path or command pipe>`. <br>`<utt_id>` must be unique."
   ]
  },
  {
   "cell_type": "code",
   "execution_count": 6,
   "metadata": {
    "collapsed": false
   },
   "outputs": [
    {
     "name": "stdout",
     "output_type": "stream",
     "text": [
      "fash-an251-b /home/dariocazzani/espnet/egs/an4/tts1/../../../tools/kaldi/tools/sph2pipe_v2.5/sph2pipe -f wav -p -c 1 ./downloads/an4/wav/an4_clstk/fash/an251-fash-b.sph |\r\n",
      "fash-an253-b /home/dariocazzani/espnet/egs/an4/tts1/../../../tools/kaldi/tools/sph2pipe_v2.5/sph2pipe -f wav -p -c 1 ./downloads/an4/wav/an4_clstk/fash/an253-fash-b.sph |\r\n",
      "fash-an254-b /home/dariocazzani/espnet/egs/an4/tts1/../../../tools/kaldi/tools/sph2pipe_v2.5/sph2pipe -f wav -p -c 1 ./downloads/an4/wav/an4_clstk/fash/an254-fash-b.sph |\r\n",
      "fash-an255-b /home/dariocazzani/espnet/egs/an4/tts1/../../../tools/kaldi/tools/sph2pipe_v2.5/sph2pipe -f wav -p -c 1 ./downloads/an4/wav/an4_clstk/fash/an255-fash-b.sph |\r\n"
     ]
    }
   ],
   "source": [
    "!head -n 4 data/train/wav.scp"
   ]
  },
  {
   "cell_type": "markdown",
   "metadata": {},
   "source": [
    "### text content\n",
    "List of transcriptions. <br>\n",
    "Each line has `<utt_id>` `<transcription>`. <br>In the case of **TTS**, we assume that <transcription> is cleaned. "
   ]
  },
  {
   "cell_type": "code",
   "execution_count": 7,
   "metadata": {
    "collapsed": false
   },
   "outputs": [
    {
     "name": "stdout",
     "output_type": "stream",
     "text": [
      "fash-an251-b YES\r\n",
      "fash-an253-b GO\r\n",
      "fash-an254-b YES\r\n",
      "fash-an255-b U M N Y H SIX\r\n",
      "fash-cen1-b H I N I C H\r\n",
      "fash-cen2-b A M Y\r\n",
      "fash-cen4-b M O R E W O O D\r\n",
      "fash-cen5-b P I T T S B U R G H\r\n",
      "fash-cen7-b TWO SIX EIGHT FOUR FOUR ONE EIGHT\r\n",
      "fbbh-an86-b C Z D Z W EIGHT\r\n"
     ]
    }
   ],
   "source": [
    "!head -n 10 data/train/text"
   ]
  },
  {
   "cell_type": "markdown",
   "metadata": {},
   "source": [
    "### utt2spk content"
   ]
  },
  {
   "cell_type": "markdown",
   "metadata": {},
   "source": [
    "List of correspondence table between utterances and speakers.<br> Each line has `<utt_id> <speaker_id>`"
   ]
  },
  {
   "cell_type": "code",
   "execution_count": 8,
   "metadata": {
    "collapsed": false
   },
   "outputs": [
    {
     "name": "stdout",
     "output_type": "stream",
     "text": [
      "fash-an251-b fash\r\n",
      "fash-an253-b fash\r\n",
      "fash-an254-b fash\r\n",
      "fash-an255-b fash\r\n"
     ]
    }
   ],
   "source": [
    "!head -n 4 data/train/utt2spk"
   ]
  },
  {
   "cell_type": "markdown",
   "metadata": {},
   "source": [
    "### spk2utt content"
   ]
  },
  {
   "cell_type": "markdown",
   "metadata": {},
   "source": [
    "List of correspondence table between speakers and utterances.<br>\n",
    "Each line has `<speaker_id> <utt_id> ... <utt_id>`. <br>\n",
    "This file can be automatically created from utt2spk."
   ]
  },
  {
   "cell_type": "markdown",
   "metadata": {},
   "source": [
    "# <font color='blue'>Stage 1: Features extraction</font>\n",
    "<br>This stage performs the following processing: \n",
    "1. Mel-spectrogram extraction \n",
    "2. Data split into training and validation set \n",
    "3. Statistics (mean and variance) calculation \n",
    "4. Normalization"
   ]
  },
  {
   "cell_type": "code",
   "execution_count": 9,
   "metadata": {
    "collapsed": false
   },
   "outputs": [
    {
     "name": "stdout",
     "output_type": "stream",
     "text": [
      "stage 1: Feature Generation\n",
      "/home/dariocazzani/espnet/egs/an4/tts1/../../../utils/make_fbank.sh --cmd run.pl --nj 4 --fs 16000 --fmax  --fmin  --n_fft 1024 --n_shift 256 --win_length  --n_mels 80 data/train exp/make_fbank/train fbank\n",
      "/home/dariocazzani/espnet/egs/an4/tts1/../../../utils/make_fbank.sh: moving data/train/feats.scp to data/train/.backup\n",
      "utils/validate_data_dir.sh: Successfully validated data-directory data/train\n",
      "/home/dariocazzani/espnet/egs/an4/tts1/../../../utils/make_fbank.sh: [info]: no segments file exists: assuming pcm.scp indexed by utterance.\n",
      "Succeeded creating filterbank features for train\n",
      "/home/dariocazzani/espnet/egs/an4/tts1/../../../utils/make_fbank.sh --cmd run.pl --nj 4 --fs 16000 --fmax  --fmin  --n_fft 1024 --n_shift 256 --win_length  --n_mels 80 data/test exp/make_fbank/test fbank\n",
      "/home/dariocazzani/espnet/egs/an4/tts1/../../../utils/make_fbank.sh: moving data/test/feats.scp to data/test/.backup\n",
      "utils/validate_data_dir.sh: Successfully validated data-directory data/test\n",
      "/home/dariocazzani/espnet/egs/an4/tts1/../../../utils/make_fbank.sh: [info]: no segments file exists: assuming pcm.scp indexed by utterance.\n",
      "Succeeded creating filterbank features for test\n",
      "utils/subset_data_dir.sh: reducing #utt from 948 to 100\n",
      "utils/subset_data_dir.sh: reducing #utt from 948 to 848\n",
      "compute-cmvn-stats scp:data/train_nodev/feats.scp data/train_nodev/cmvn.ark \n",
      "LOG (compute-cmvn-stats[5.5.428~1-29b3]:main():compute-cmvn-stats.cc:168) Wrote global CMVN stats to data/train_nodev/cmvn.ark\n",
      "LOG (compute-cmvn-stats[5.5.428~1-29b3]:main():compute-cmvn-stats.cc:171) Done accumulating CMVN stats for 848 utterances; 0 had errors.\n",
      "/home/dariocazzani/espnet/egs/an4/tts1/../../../utils/dump.sh --cmd run.pl --nj 4 --do_delta false data/train_nodev/feats.scp data/train_nodev/cmvn.ark exp/dump_feats/train dump/train_nodev\n",
      "/home/dariocazzani/espnet/egs/an4/tts1/../../../utils/dump.sh --cmd run.pl --nj 4 --do_delta false data/train_dev/feats.scp data/train_nodev/cmvn.ark exp/dump_feats/dev dump/train_dev\n",
      "/home/dariocazzani/espnet/egs/an4/tts1/../../../utils/dump.sh --cmd run.pl --nj 4 --do_delta false data/test/feats.scp data/train_nodev/cmvn.ark exp/dump_feats/eval dump/test\n",
      "dictionary: data/lang_1char/train_nodev_units.txt\n"
     ]
    }
   ],
   "source": [
    "!./run.sh --stage 1 --stop_stage 1 --nj 4"
   ]
  },
  {
   "cell_type": "markdown",
   "metadata": {},
   "source": [
    "### Data"
   ]
  },
  {
   "cell_type": "markdown",
   "metadata": {},
   "source": [
    "Raw filterbanks are saved in fbank/ directory with ark/scp format."
   ]
  },
  {
   "cell_type": "code",
   "execution_count": 10,
   "metadata": {
    "collapsed": false
   },
   "outputs": [
    {
     "name": "stdout",
     "output_type": "stream",
     "text": [
      "raw_fbank_test.1.ark  raw_fbank_test.4.ark   raw_fbank_train.3.ark\r\n",
      "raw_fbank_test.1.scp  raw_fbank_test.4.scp   raw_fbank_train.3.scp\r\n",
      "raw_fbank_test.2.ark  raw_fbank_train.1.ark  raw_fbank_train.4.ark\r\n",
      "raw_fbank_test.2.scp  raw_fbank_train.1.scp  raw_fbank_train.4.scp\r\n",
      "raw_fbank_test.3.ark  raw_fbank_train.2.ark\r\n",
      "raw_fbank_test.3.scp  raw_fbank_train.2.scp\r\n"
     ]
    }
   ],
   "source": [
    "!ls fbank"
   ]
  },
  {
   "cell_type": "markdown",
   "metadata": {
    "collapsed": true
   },
   "source": [
    "`.ark` is binary file <br>\n",
    "`.scp` contains the correspondence between `<utt_id>` and `<path_in_ark>`."
   ]
  },
  {
   "cell_type": "code",
   "execution_count": 11,
   "metadata": {
    "collapsed": false
   },
   "outputs": [
    {
     "data": {
      "image/png": "[encoded data removed]",
      "text/plain": [
       "<Figure size 432x288 with 2 Axes>"
      ]
     },
     "metadata": {
      "needs_background": "light"
     },
     "output_type": "display_data"
    },
    {
     "data": {
      "image/png": "[encoded data removed]",
      "text/plain": [
       "<Figure size 432x288 with 2 Axes>"
      ]
     },
     "metadata": {
      "needs_background": "light"
     },
     "output_type": "display_data"
    }
   ],
   "source": [
    "import kaldiio\n",
    "import matplotlib.pyplot as plt\n",
    "\n",
    "# load scp file\n",
    "scp_dict = kaldiio.load_scp(\"fbank/raw_fbank_train.1.scp\")\n",
    "for key in scp_dict:\n",
    "    plt.imshow(scp_dict[key].T[::-1])\n",
    "    plt.title(key)\n",
    "    plt.colorbar()\n",
    "    plt.show()\n",
    "    break\n",
    "\n",
    "# load ark file\n",
    "ark_generator = kaldiio.load_ark(\"fbank/raw_fbank_train.1.ark\")\n",
    "for key, array in ark_generator:\n",
    "    plt.imshow(array.T[::-1])\n",
    "    plt.title(key)\n",
    "    plt.colorbar()\n",
    "    plt.show()\n",
    "    break"
   ]
  },
  {
   "cell_type": "markdown",
   "metadata": {
    "collapsed": true
   },
   "source": [
    "# Stage 2: Dictionary and json preparation <br>\n",
    "Create the dictionary and the json files needed for training"
   ]
  },
  {
   "cell_type": "code",
   "execution_count": 12,
   "metadata": {
    "collapsed": false
   },
   "outputs": [
    {
     "name": "stdout",
     "output_type": "stream",
     "text": [
      "dictionary: data/lang_1char/train_nodev_units.txt\n",
      "stage 2: Dictionary and Json Data Preparation\n",
      "28 data/lang_1char/train_nodev_units.txt\n",
      "/home/dariocazzani/espnet/egs/an4/tts1/../../../utils/data2json.sh --feat dump/train_nodev/feats.scp data/train_nodev data/lang_1char/train_nodev_units.txt\n",
      "/home/dariocazzani/espnet/egs/an4/tts1/../../../utils/feat_to_shape.sh --cmd run.pl --nj 1 --filetype  --preprocess-conf  --verbose 0 dump/train_nodev/feats.scp data/train_nodev/tmp-0w6GE/input_1/shape.scp\n",
      "/home/dariocazzani/espnet/egs/an4/tts1/../../../utils/data2json.sh --feat dump/train_dev/feats.scp data/train_dev data/lang_1char/train_nodev_units.txt\n",
      "/home/dariocazzani/espnet/egs/an4/tts1/../../../utils/feat_to_shape.sh --cmd run.pl --nj 1 --filetype  --preprocess-conf  --verbose 0 dump/train_dev/feats.scp data/train_dev/tmp-ArGX3/input_1/shape.scp\n",
      "/home/dariocazzani/espnet/egs/an4/tts1/../../../utils/data2json.sh --feat dump/test/feats.scp data/test data/lang_1char/train_nodev_units.txt\n",
      "/home/dariocazzani/espnet/egs/an4/tts1/../../../utils/feat_to_shape.sh --cmd run.pl --nj 1 --filetype  --preprocess-conf  --verbose 0 dump/test/feats.scp data/test/tmp-8KTuB/input_1/shape.scp\n"
     ]
    }
   ],
   "source": [
    "!./run.sh --stage 2 --stop_stage 2"
   ]
  },
  {
   "cell_type": "markdown",
   "metadata": {},
   "source": [
    "### Dictionary\n",
    "it consists of `<token> <token index>`.\n",
    "Here, `<token index>` starts from 1 because 0 is used as padding index."
   ]
  },
  {
   "cell_type": "code",
   "execution_count": 13,
   "metadata": {
    "collapsed": false
   },
   "outputs": [
    {
     "name": "stdout",
     "output_type": "stream",
     "text": [
      "lang_1char  test  train  train_dev  train_nodev\n",
      "<unk> 1\n",
      "<space> 2\n",
      "A 3\n",
      "B 4\n",
      "C 5\n",
      "D 6\n",
      "E 7\n",
      "F 8\n",
      "G 9\n",
      "H 10\n",
      "I 11\n",
      "J 12\n",
      "K 13\n",
      "L 14\n",
      "M 15\n",
      "N 16\n",
      "O 17\n",
      "P 18\n",
      "Q 19\n",
      "R 20\n",
      "S 21\n",
      "T 22\n",
      "U 23\n",
      "V 24\n",
      "W 25\n",
      "X 26\n",
      "Y 27\n",
      "Z 28\n"
     ]
    }
   ],
   "source": [
    "!ls data\n",
    "!cat data/lang_1char/train_nodev_units.txt"
   ]
  },
  {
   "cell_type": "markdown",
   "metadata": {},
   "source": [
    "### Json"
   ]
  },
  {
   "cell_type": "markdown",
   "metadata": {},
   "source": [
    "Json file will be created for `training / validation /evaludation` sets"
   ]
  },
  {
   "cell_type": "code",
   "execution_count": 14,
   "metadata": {
    "collapsed": false
   },
   "outputs": [
    {
     "name": "stdout",
     "output_type": "stream",
     "text": [
      "dump/test/data.json  dump/train_dev/data.json  dump/train_nodev/data.json\n",
      "{\n",
      "    \"utts\": {\n",
      "        \"fash-an251-b\": {\n",
      "            \"input\": [\n",
      "                {\n",
      "                    \"feat\": \"/home/dariocazzani/espnet/egs/an4/tts1/dump/train_nodev/feats.1.ark:13\",\n",
      "                    \"name\": \"input1\",\n",
      "                    \"shape\": [\n",
      "                        63,\n",
      "                        80\n",
      "                    ]\n",
      "                }\n",
      "            ],\n",
      "            \"output\": [\n",
      "                {\n",
      "                    \"name\": \"target1\",\n",
      "                    \"shape\": [\n",
      "                        3,\n",
      "                        30\n",
      "                    ],\n",
      "                    \"text\": \"YES\",\n",
      "                    \"token\": \"Y E S\",\n",
      "                    \"tokenid\": \"27 7 21\"\n",
      "                }\n",
      "            ],\n",
      "            \"utt2spk\": \"fash\"\n",
      "        },\n"
     ]
    }
   ],
   "source": [
    "!ls dump/*/*.json\n",
    "!head -n 27 dump/train_nodev/data.json"
   ]
  },
  {
   "cell_type": "markdown",
   "metadata": {},
   "source": [
    "* **shape**: Shape of the input or output sequence. Here input shape [63, 80] (frames, mel-coefficient)\n",
    "* **text**: Original transcription.\n",
    "* **token**: Token sequence of original transcription.\n",
    "* **tokenid** Token id sequence of original transcription, which is converted using the dictionary.\n",
    "\n"
   ]
  },
  {
   "cell_type": "markdown",
   "metadata": {},
   "source": [
    "# <font color='blue'>Stage 3: Training</font>"
   ]
  },
  {
   "cell_type": "markdown",
   "metadata": {},
   "source": [
    "Training configurations are stored in `conf/train_pytroch_tacotron2.yaml.`"
   ]
  },
  {
   "cell_type": "code",
   "execution_count": 15,
   "metadata": {
    "collapsed": false
   },
   "outputs": [
    {
     "name": "stdout",
     "output_type": "stream",
     "text": [
      "# This is the basic tactron2 training settting\r\n",
      "\r\n",
      "# encoder related\r\n",
      "embed-dim: 512\r\n",
      "elayers: 1\r\n",
      "eunits: 512\r\n",
      "econv-layers: 3 # if set 0, no conv layer is used\r\n",
      "econv-chans: 512\r\n",
      "econv-filts: 5\r\n",
      "\r\n",
      "# decoder related\r\n",
      "dlayers: 2\r\n",
      "dunits: 1024\r\n",
      "prenet-layers: 2  # if set 0, no prenet is used\r\n",
      "prenet-units: 256\r\n",
      "postnet-layers: 5 # if set 0, no postnet is used\r\n",
      "postnet-chans: 512\r\n",
      "postnet-filts: 5\r\n",
      "\r\n",
      "# attention related\r\n",
      "atype: location\r\n",
      "adim: 128\r\n",
      "aconv-chans: 32\r\n",
      "aconv-filts: 15      # resulting in filter-size = aconv-filts * 2 + 1\r\n",
      "cumulate-att-w: true # whether to cumulate attetion weight\r\n",
      "use-batch-norm: true # whether to use batch normalization in conv layer\r\n",
      "use-concate: true    # whether to concatenate encoder embedding with decoder lstm outputs\r\n",
      "use-residual: false  # whether to use residual connection in encoder convolution\r\n",
      "use-masking: true    # whether to mask the padded part in loss calculation\r\n",
      "bce-pos-weight: 1.0  # weight for positive samples of stop token in cross-entropy calculation\r\n",
      "reduction-factor: 2\r\n",
      "\r\n",
      "# minibatch related\r\n",
      "batch-size: 32\r\n",
      "batch-sort-key: shuffle # shuffle or input or output\r\n",
      "maxlen-in: 150     # if input length  > maxlen-in, batchsize is reduced (if use \"shuffle\", not effect)\r\n",
      "maxlen-out: 400    # if output length > maxlen-out, batchsize is reduced (if use \"shuffle\", not effect)\r\n",
      "\r\n",
      "# optimization related\r\n",
      "lr: 1e-3\r\n",
      "eps: 1e-6\r\n",
      "weight-decay: 0.0\r\n",
      "dropout-rate: 0.5\r\n",
      "zoneout-rate: 0.1\r\n",
      "epochs: 50\r\n",
      "patience: 5\r\n"
     ]
    }
   ],
   "source": [
    "!cat conf/train_pytorch_tacotron2.yaml\n"
   ]
  },
  {
   "cell_type": "markdown",
   "metadata": {},
   "source": [
    "### Let's create a backup configuration file to run for a bit longer"
   ]
  },
  {
   "cell_type": "code",
   "execution_count": 16,
   "metadata": {
    "collapsed": false
   },
   "outputs": [],
   "source": [
    "!cat conf/train_pytorch_tacotron2.yaml | sed -e \"s/epochs: 50/epochs: 60/g\" > conf/train_pytorch_tacotron2_sample.yaml"
   ]
  },
  {
   "cell_type": "markdown",
   "metadata": {},
   "source": [
    "### Run training"
   ]
  },
  {
   "cell_type": "code",
   "execution_count": null,
   "metadata": {
    "collapsed": false
   },
   "outputs": [
    {
     "name": "stdout",
     "output_type": "stream",
     "text": [
      "dictionary: data/lang_1char/train_nodev_units.txt\r\n",
      "stage 3: Text-to-speech model training\r\n"
     ]
    }
   ],
   "source": [
    "!./run.sh --stage 3 --stop_stage 3 --train_config conf/train_pytorch_tacotron2_sample.yaml --verbose 1"
   ]
  },
  {
   "cell_type": "markdown",
   "metadata": {},
   "source": [
    "### Checking the progress"
   ]
  },
  {
   "cell_type": "code",
   "execution_count": null,
   "metadata": {
    "collapsed": false
   },
   "outputs": [],
   "source": [
    "!cat exp/train_nodev_pytorch_train_pytorch_tacotron2_sample/train.log"
   ]
  },
  {
   "cell_type": "markdown",
   "metadata": {},
   "source": [
    "### Models checkpoints"
   ]
  },
  {
   "cell_type": "code",
   "execution_count": null,
   "metadata": {
    "collapsed": false
   },
   "outputs": [],
   "source": [
    "!ls exp/train_nodev_pytorch_train_pytorch_tacotron2_sample/results"
   ]
  },
  {
   "cell_type": "markdown",
   "metadata": {},
   "source": [
    "### Training curves"
   ]
  },
  {
   "cell_type": "markdown",
   "metadata": {},
   "source": [
    "from IPython.display import Image, display_png\n",
    "print(\"all loss curve\")\n",
    "display_png(Image(\"exp/train_nodev_pytorch_train_pytorch_tacotron2_sample/results/all_loss.png\"))\n",
    "print(\"l1 loss curve\")\n",
    "display_png(Image(\"exp/train_nodev_pytorch_train_pytorch_tacotron2_sample/results/l1_loss.png\"))\n",
    "print(\"mse loss curve\")\n",
    "display_png(Image(\"exp/train_nodev_pytorch_train_pytorch_tacotron2_sample/results/mse_loss.png\"))\n",
    "print(\"bce loss curve\")\n",
    "display_png(Image(\"exp/train_nodev_pytorch_train_pytorch_tacotron2_sample/results/bce_loss.png\"))"
   ]
  },
  {
   "cell_type": "markdown",
   "metadata": {},
   "source": [
    "### Best model\n",
    "**`exp/train_*/results/model.loss.best`** contains only the model parameters."
   ]
  },
  {
   "cell_type": "markdown",
   "metadata": {},
   "source": [
    "### To resume training \n",
    "(from snapchot 2 for example)"
   ]
  },
  {
   "cell_type": "code",
   "execution_count": null,
   "metadata": {
    "collapsed": false
   },
   "outputs": [],
   "source": [
    "!./run.sh --stage 3 --stop_stage 3 --train_config conf/train_pytorch_tacotron2_sample.yaml --resume exp/train_nodev_pytorch_train_pytorch_tacotron2_sample/results/snapshot.ep.2 --verbose 1"
   ]
  },
  {
   "cell_type": "markdown",
   "metadata": {},
   "source": [
    "# <font color='blue'>Stage 4: Decoding</font>"
   ]
  },
  {
   "cell_type": "markdown",
   "metadata": {},
   "source": [
    "### This stage performs decoding using the trained model to generate mel-spectrogram from a given text."
   ]
  },
  {
   "cell_type": "code",
   "execution_count": null,
   "metadata": {
    "collapsed": false
   },
   "outputs": [],
   "source": [
    "!./run.sh --stage 4 --stop_stage 4 --nj 8 --train_config conf/train_pytorch_tacotron2_sample.yaml"
   ]
  },
  {
   "cell_type": "markdown",
   "metadata": {},
   "source": [
    "### Generated features are saved as ark/scp format."
   ]
  },
  {
   "cell_type": "code",
   "execution_count": null,
   "metadata": {
    "collapsed": false
   },
   "outputs": [],
   "source": [
    "!ls exp/train_nodev_pytorch_train_pytorch_tacotron2_sample/outputs_model.loss.best_decode/*"
   ]
  },
  {
   "cell_type": "markdown",
   "metadata": {},
   "source": [
    "### We can specify the model or snapshot to be used for decoding via **–model**."
   ]
  },
  {
   "cell_type": "code",
   "execution_count": null,
   "metadata": {
    "collapsed": false
   },
   "outputs": [],
   "source": [
    "!./run.sh --stage 4 --stop_stage 4 --nj 8 --train_config conf/train_pytorch_tacotron2_sample.yaml --model snapshot.ep.9"
   ]
  },
  {
   "cell_type": "code",
   "execution_count": null,
   "metadata": {
    "collapsed": false
   },
   "outputs": [],
   "source": [
    "!ls exp/train_nodev_pytorch_train_pytorch_tacotron2_sample/outputs_snapshot.ep.9_decode/*"
   ]
  },
  {
   "cell_type": "markdown",
   "metadata": {},
   "source": [
    "### Visualize decoded mel spectrogram from test files"
   ]
  },
  {
   "cell_type": "code",
   "execution_count": null,
   "metadata": {
    "collapsed": false
   },
   "outputs": [],
   "source": [
    "import kaldiio\n",
    "import matplotlib.pyplot as plt\n",
    "\n",
    "# load scp file\n",
    "scp_dict = kaldiio.load_scp(\"exp/train_nodev_pytorch_train_pytorch_tacotron2_sample/outputs_snapshot.ep.9_decode/test/feats.1.scp\")\n",
    "for key in scp_dict:\n",
    "    plt.imshow(scp_dict[key].T[::-1])\n",
    "    plt.title(key)\n",
    "    plt.colorbar()\n",
    "    plt.show()\n",
    "    break\n",
    "\n",
    "name = key\n",
    "\n",
    "# # load ark file\n",
    "# ark_generator = kaldiio.load_ark(\"exp/train_nodev_pytorch_train_pytorch_tacotron2_sample/outputs_snapshot.ep.9_decode/test/feats.1.ark\")\n",
    "# for key, array in ark_generator:\n",
    "#     plt.imshow(array.T[::-1])\n",
    "#     plt.title(key)\n",
    "#     plt.colorbar()\n",
    "#     plt.show()\n",
    "#     break"
   ]
  },
  {
   "cell_type": "code",
   "execution_count": null,
   "metadata": {
    "collapsed": false
   },
   "outputs": [],
   "source": [
    "import json\n",
    "path = \"exp/train_nodev_pytorch_train_pytorch_tacotron2_sample/outputs_snapshot.ep.9_decode/test/data.json\"\n",
    "with open(path) as json_file:\n",
    "    data = json.load(json_file)\n",
    "print(data.get('utts').get(name).get(\"output\")[0].get(\"text\"))"
   ]
  },
  {
   "cell_type": "markdown",
   "metadata": {},
   "source": [
    "# <font color='blue'>Stage 5: Waveform synthesis</font>\n",
    "\n",
    "### Finally, in this stage, we generate waveform using **Grrifin-Lim algorithm**.\n",
    "First, we perform de-normalization to convert the generated mel-spectrogram into the original scale. <br>\n",
    "Then we apply Grrifin-Lim algorithm to restore phase components and apply inverse STFT to generate waveforms."
   ]
  },
  {
   "cell_type": "code",
   "execution_count": null,
   "metadata": {
    "collapsed": false
   },
   "outputs": [],
   "source": [
    "!./run.sh --stage 5 --stop_stage 5 --nj 8 --train_config conf/train_pytorch_tacotron2_sample.yaml --griffin_lim_iters 50"
   ]
  },
  {
   "cell_type": "code",
   "execution_count": null,
   "metadata": {
    "collapsed": false
   },
   "outputs": [],
   "source": [
    "import librosa, os\n",
    "import librosa.display\n",
    "path = \"exp/train_nodev_pytorch_train_pytorch_tacotron2_sample/outputs_model.loss.best_decode_denorm/test/wav\"\n",
    "y, sr = librosa.load(os.path.join(path, f\"{name}.wav\"))\n",
    "plt.figure(figsize=(14, 5))\n",
    "librosa.display.waveplot(y, sr=sr)"
   ]
  },
  {
   "cell_type": "code",
   "execution_count": null,
   "metadata": {
    "collapsed": false
   },
   "outputs": [],
   "source": [
    "X = librosa.stft(y)\n",
    "Xdb = librosa.amplitude_to_db(abs(X))\n",
    "plt.figure(figsize=(14, 5))\n",
    "librosa.display.specshow(Xdb, sr=sr, x_axis='time', y_axis='hz')"
   ]
  },
  {
   "cell_type": "code",
   "execution_count": null,
   "metadata": {
    "collapsed": false
   },
   "outputs": [],
   "source": [
    "import IPython.display as ipd\n",
    "ipd.Audio(y, rate=sr) # load a NumPy array"
   ]
  },
  {
   "cell_type": "code",
   "execution_count": null,
   "metadata": {
    "collapsed": true
   },
   "outputs": [],
   "source": []
  }
 ],
 "metadata": {
  "kernelspec": {
   "display_name": "tts",
   "language": "python",
   "name": "tts"
  },
  "language_info": {
   "codemirror_mode": {
    "name": "ipython",
    "version": 3
   },
   "file_extension": ".py",
   "mimetype": "text/x-python",
   "name": "python",
   "nbconvert_exporter": "python",
   "pygments_lexer": "ipython3",
   "version": "3.7.3"
  }
 },
 "nbformat": 4,
 "nbformat_minor": 0
}
